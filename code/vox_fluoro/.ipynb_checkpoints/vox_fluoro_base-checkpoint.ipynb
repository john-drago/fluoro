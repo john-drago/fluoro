{
 "cells": [
  {
   "cell_type": "code",
   "execution_count": 1,
   "metadata": {},
   "outputs": [
    {
     "name": "stderr",
     "output_type": "stream",
     "text": [
      "Using TensorFlow backend.\n"
     ]
    }
   ],
   "source": [
    "import numpy as np\n",
    "import h5py\n",
    "import tensorflow as tf\n",
    "import keras\n",
    "import os\n",
    "import sys\n",
    "from sklearn.model_selection import train_test_split\n",
    "\n",
    "sys.path.append(os.path.abspath(os.path.expanduser('~/fluoro/code')))\n",
    "\n",
    "import datacomp.h5py_multidimensional_array as h5py_multidimensional_array\n",
    "import h5py_multidimensional_array.variable_matrix_loader"
   ]
  },
  {
   "cell_type": "code",
   "execution_count": 2,
   "metadata": {},
   "outputs": [],
   "source": [
    "def data_comp():\n",
    "    \n",
    "    vox_mat = h5py_multidimensional_array.variable_matrix_loader('/Users/johndrago/fluoro/data/compilation/voxels.h5py',index_of_instances=[None,None])\n",
    "\n",
    "    image_file = h5py.File(os.path.expanduser('~/fluoro/data/compilation/images.h5py'), 'r')\n",
    "    image_init = image_file['image_dset']\n",
    "    image_mat = image_init[:]\n",
    "\n",
    "    label_file = h5py.File(os.path.expanduser('~/fluoro/data/compilation/labels.h5py'), 'r')\n",
    "    label_init = label_file['labels_dset']\n",
    "    label_mat = label_init[:]\n",
    "\n",
    "    cali_file = h5py.File(os.path.expanduser('~/fluoro/data/compilation/calibration.h5py'), 'r')\n",
    "    cali_init = cali_file['cali_len3_rot']\n",
    "    cali_mat = cali_init[:]\n",
    "\n",
    "    vox_train_cum, vox_test, image_train_cum, image_test, cali_train_cum, cali_test, label_train_cum, label_test = train_test_split(vox_mat,image_mat,cali_mat,label_mat,shuffle=True,test_size=0.2,random_state=42)\n",
    "\n",
    "    # print('Image mat size:',image_mat.shape)\n",
    "    # print('Label mat size:',label_mat.shape)\n",
    "    # print('Cali mat size:',cali_mat.shape)\n",
    "\n",
    "    # print('Image cum size:',image_train_cum.shape)\n",
    "    # print('Label cum size:',label_train_cum.shape)\n",
    "    # print('Cali cum size:',cali_train_cum.shape)\n",
    "\n",
    "    # print('Image test size:',image_test.shape)\n",
    "    # print('Label test size:',label_test.shape)\n",
    "    # print('Cali test size:',cali_test.shape)\n",
    "\n",
    "\n",
    "    vox_train_sub, vox_val, image_train_sub, image_val, cali_train_sub, cali_val, label_train_sub, label_val = train_test_split(vox_train_cum,image_train_cum, cali_train_cum, label_train_cum, shuffle=True, test_size=0.2,random_state=42)\n",
    "\n",
    "    # print('Image sub size:',image_train_sub.shape)\n",
    "    # print('Label sub size:',label_train_sub.shape)\n",
    "    # print('Cali sub size:',cali_train_sub.shape)\n",
    "\n",
    "    # print('Image val size:',image_val.shape)\n",
    "    # print('Label val size:',label_val.shape)\n",
    "    # print('Cali val size:',cali_val.shape)\n",
    "\n",
    "    return vox_train_sub, vox_val, image_train_sub, image_val, cali_train_sub, cali_val, label_train_sub, label_val\n",
    "    # return image_train_cum, cali_train_cum, label_train_cum"
   ]
  },
  {
   "cell_type": "code",
   "execution_count": 3,
   "metadata": {},
   "outputs": [],
   "source": [
    "vox_train_sub, vox_val, image_train_sub, image_val, cali_train_sub, cali_val, label_train_sub, label_val = data_comp()"
   ]
  },
  {
   "cell_type": "code",
   "execution_count": 6,
   "metadata": {},
   "outputs": [
    {
     "data": {
      "text/plain": [
       "(4072,)"
      ]
     },
     "execution_count": 6,
     "metadata": {},
     "output_type": "execute_result"
    }
   ],
   "source": [
    "vox_train_sub.shape"
   ]
  },
  {
   "cell_type": "code",
   "execution_count": 8,
   "metadata": {},
   "outputs": [
    {
     "data": {
      "text/plain": [
       "(8754730,)"
      ]
     },
     "execution_count": 8,
     "metadata": {},
     "output_type": "execute_result"
    }
   ],
   "source": []
  },
  {
   "cell_type": "code",
   "execution_count": null,
   "metadata": {},
   "outputs": [],
   "source": []
  },
  {
   "cell_type": "code",
   "execution_count": 4,
   "metadata": {},
   "outputs": [],
   "source": [
    "channel_order = 'channels_last'\n",
    "img_input_shape = (128,128,1)\n",
    "vox_input_shape = ()"
   ]
  },
  {
   "cell_type": "code",
   "execution_count": 5,
   "metadata": {},
   "outputs": [
    {
     "ename": "NameError",
     "evalue": "name 'shape' is not defined",
     "output_type": "error",
     "traceback": [
      "\u001b[0;31m---------------------------------------------------------------------------\u001b[0m",
      "\u001b[0;31mNameError\u001b[0m                                 Traceback (most recent call last)",
      "\u001b[0;32m<ipython-input-5-5ad9a40c3ed7>\u001b[0m in \u001b[0;36m<module>\u001b[0;34m\u001b[0m\n\u001b[0;32m----> 1\u001b[0;31m \u001b[0minput_vox\u001b[0m \u001b[0;34m=\u001b[0m \u001b[0mkeras\u001b[0m\u001b[0;34m.\u001b[0m\u001b[0mInput\u001b[0m\u001b[0;34m(\u001b[0m\u001b[0mshape\u001b[0m\u001b[0;34m)\u001b[0m\u001b[0;34m\u001b[0m\u001b[0m\n\u001b[0m\u001b[1;32m      2\u001b[0m \u001b[0minput_fluoro_1\u001b[0m\u001b[0;34m\u001b[0m\u001b[0m\n\u001b[1;32m      3\u001b[0m \u001b[0minput_fluoro_2\u001b[0m\u001b[0;34m\u001b[0m\u001b[0m\n\u001b[1;32m      4\u001b[0m \u001b[0minput_cali\u001b[0m\u001b[0;34m\u001b[0m\u001b[0m\n",
      "\u001b[0;31mNameError\u001b[0m: name 'shape' is not defined"
     ]
    }
   ],
   "source": [
    "input_vox = keras.Input(shape)\n",
    "input_fluoro_1\n",
    "input_fluoro_2\n",
    "input_cali"
   ]
  }
 ],
 "metadata": {
  "kernelspec": {
   "display_name": "fenv",
   "language": "python",
   "name": "fenv"
  },
  "language_info": {
   "codemirror_mode": {
    "name": "ipython",
    "version": 3
   },
   "file_extension": ".py",
   "mimetype": "text/x-python",
   "name": "python",
   "nbconvert_exporter": "python",
   "pygments_lexer": "ipython3",
   "version": "3.6.6"
  },
  "toc": {
   "base_numbering": 1,
   "nav_menu": {},
   "number_sections": true,
   "sideBar": true,
   "skip_h1_title": false,
   "title_cell": "Table of Contents",
   "title_sidebar": "Contents",
   "toc_cell": false,
   "toc_position": {},
   "toc_section_display": true,
   "toc_window_display": false
  }
 },
 "nbformat": 4,
 "nbformat_minor": 2
}
