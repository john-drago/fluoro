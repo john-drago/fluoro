{
 "cells": [
  {
   "cell_type": "code",
   "execution_count": 1,
   "metadata": {},
   "outputs": [],
   "source": [
    "%matplotlib inline"
   ]
  },
  {
   "cell_type": "code",
   "execution_count": 2,
   "metadata": {},
   "outputs": [],
   "source": [
    "import matplotlib.pyplot as plt\n",
    "import numpy as np\n",
    "import scipy as sp\n",
    "import os\n",
    "import trimesh"
   ]
  },
  {
   "cell_type": "code",
   "execution_count": 3,
   "metadata": {},
   "outputs": [
    {
     "data": {
      "text/plain": [
       "'/Users/johndrago/fluoro/code/Jupyter Notebooks'"
      ]
     },
     "execution_count": 3,
     "metadata": {},
     "output_type": "execute_result"
    }
   ],
   "source": [
    "os.getcwd()"
   ]
  },
  {
   "cell_type": "code",
   "execution_count": 4,
   "metadata": {},
   "outputs": [],
   "source": [
    "os.chdir('../../sample')"
   ]
  },
  {
   "cell_type": "code",
   "execution_count": 5,
   "metadata": {},
   "outputs": [
    {
     "data": {
      "text/plain": [
       "'/Users/johndrago/fluoro/sample'"
      ]
     },
     "execution_count": 5,
     "metadata": {},
     "output_type": "execute_result"
    }
   ],
   "source": [
    "os.getcwd()"
   ]
  },
  {
   "cell_type": "code",
   "execution_count": 6,
   "metadata": {},
   "outputs": [],
   "source": [
    "stl_data = trimesh.load('RFemur.stl')"
   ]
  },
  {
   "cell_type": "code",
   "execution_count": 7,
   "metadata": {},
   "outputs": [
    {
     "data": {
      "text/plain": [
       "<trimesh.base.Trimesh at 0x117238eb8>"
      ]
     },
     "execution_count": 7,
     "metadata": {},
     "output_type": "execute_result"
    }
   ],
   "source": [
    "stl_data"
   ]
  },
  {
   "cell_type": "code",
   "execution_count": 8,
   "metadata": {},
   "outputs": [
    {
     "data": {
      "text/plain": [
       "TrackedArray([[-117.7950592 ,  -54.60817719, -672.86810303],\n",
       "              [-141.80548096,    4.79829407, -701.18969727],\n",
       "              [-141.26939392,  -38.72039795, -701.88049316],\n",
       "              ...,\n",
       "              [-141.24584961,  -37.33885193, -603.79101562],\n",
       "              [-116.49092865,    4.79829407, -683.92041016],\n",
       "              [ -70.84638977,  -39.41117859, -692.2097168 ]])"
      ]
     },
     "execution_count": 8,
     "metadata": {},
     "output_type": "execute_result"
    }
   ],
   "source": [
    "stl_data.vertices"
   ]
  },
  {
   "cell_type": "code",
   "execution_count": 9,
   "metadata": {},
   "outputs": [],
   "source": [
    "vertices = np.array(stl_data.vertices)"
   ]
  },
  {
   "cell_type": "code",
   "execution_count": 10,
   "metadata": {},
   "outputs": [
    {
     "data": {
      "text/plain": [
       "(97931, 3)"
      ]
     },
     "execution_count": 10,
     "metadata": {},
     "output_type": "execute_result"
    }
   ],
   "source": [
    "vertices.shape"
   ]
  },
  {
   "cell_type": "code",
   "execution_count": 12,
   "metadata": {},
   "outputs": [
    {
     "data": {
      "text/plain": [
       "14.838043212890625"
      ]
     },
     "execution_count": 12,
     "metadata": {},
     "output_type": "execute_result"
    }
   ],
   "source": [
    "vertices.max()"
   ]
  },
  {
   "cell_type": "code",
   "execution_count": 13,
   "metadata": {},
   "outputs": [
    {
     "data": {
      "text/plain": [
       "array([ -64.7049408 ,   14.83804321, -513.230896  ])"
      ]
     },
     "execution_count": 13,
     "metadata": {},
     "output_type": "execute_result"
    }
   ],
   "source": [
    "vertices.max(axis=0)"
   ]
  },
  {
   "cell_type": "code",
   "execution_count": 14,
   "metadata": {},
   "outputs": [
    {
     "data": {
      "text/plain": [
       "['__add__',\n",
       " '__class__',\n",
       " '__delattr__',\n",
       " '__dict__',\n",
       " '__dir__',\n",
       " '__doc__',\n",
       " '__eq__',\n",
       " '__format__',\n",
       " '__ge__',\n",
       " '__getattribute__',\n",
       " '__gt__',\n",
       " '__hash__',\n",
       " '__init__',\n",
       " '__init_subclass__',\n",
       " '__le__',\n",
       " '__lt__',\n",
       " '__module__',\n",
       " '__ne__',\n",
       " '__new__',\n",
       " '__reduce__',\n",
       " '__reduce_ex__',\n",
       " '__repr__',\n",
       " '__setattr__',\n",
       " '__sizeof__',\n",
       " '__str__',\n",
       " '__subclasshook__',\n",
       " '__weakref__',\n",
       " '_cache',\n",
       " '_center_mass',\n",
       " '_data',\n",
       " '_density',\n",
       " '_kwargs',\n",
       " '_validate',\n",
       " 'apply_obb',\n",
       " 'apply_scale',\n",
       " 'apply_transform',\n",
       " 'apply_translation',\n",
       " 'area',\n",
       " 'area_faces',\n",
       " 'body_count',\n",
       " 'bounding_box',\n",
       " 'bounding_box_oriented',\n",
       " 'bounding_cylinder',\n",
       " 'bounding_primitive',\n",
       " 'bounding_sphere',\n",
       " 'bounds',\n",
       " 'center_mass',\n",
       " 'centroid',\n",
       " 'compute_stable_poses',\n",
       " 'contains',\n",
       " 'convert_units',\n",
       " 'convex_decomposition',\n",
       " 'convex_hull',\n",
       " 'copy',\n",
       " 'crc',\n",
       " 'density',\n",
       " 'difference',\n",
       " 'edges',\n",
       " 'edges_face',\n",
       " 'edges_sorted',\n",
       " 'edges_sparse',\n",
       " 'edges_unique',\n",
       " 'edges_unique_inverse',\n",
       " 'edges_unique_length',\n",
       " 'euler_number',\n",
       " 'eval_cached',\n",
       " 'export',\n",
       " 'extents',\n",
       " 'face_adjacency',\n",
       " 'face_adjacency_angles',\n",
       " 'face_adjacency_convex',\n",
       " 'face_adjacency_edges',\n",
       " 'face_adjacency_projections',\n",
       " 'face_adjacency_radius',\n",
       " 'face_adjacency_span',\n",
       " 'face_adjacency_tree',\n",
       " 'face_adjacency_unshared',\n",
       " 'face_angles',\n",
       " 'face_angles_sparse',\n",
       " 'face_normals',\n",
       " 'faces',\n",
       " 'faces_sparse',\n",
       " 'faces_unique_edges',\n",
       " 'facets',\n",
       " 'facets_area',\n",
       " 'facets_boundary',\n",
       " 'facets_normal',\n",
       " 'facets_on_hull',\n",
       " 'facets_origin',\n",
       " 'fill_holes',\n",
       " 'fix_normals',\n",
       " 'identifier',\n",
       " 'identifier_md5',\n",
       " 'intersection',\n",
       " 'invert',\n",
       " 'is_convex',\n",
       " 'is_empty',\n",
       " 'is_volume',\n",
       " 'is_watertight',\n",
       " 'is_winding_consistent',\n",
       " 'kdtree',\n",
       " 'mass',\n",
       " 'mass_properties',\n",
       " 'md5',\n",
       " 'merge_vertices',\n",
       " 'metadata',\n",
       " 'moment_inertia',\n",
       " 'nearest',\n",
       " 'outline',\n",
       " 'permutate',\n",
       " 'principal_inertia_components',\n",
       " 'principal_inertia_transform',\n",
       " 'principal_inertia_vectors',\n",
       " 'process',\n",
       " 'ray',\n",
       " 'register',\n",
       " 'remove_degenerate_faces',\n",
       " 'remove_duplicate_faces',\n",
       " 'remove_infinite_values',\n",
       " 'remove_unreferenced_vertices',\n",
       " 'rezero',\n",
       " 'sample',\n",
       " 'scale',\n",
       " 'scene',\n",
       " 'section',\n",
       " 'section_multiplane',\n",
       " 'show',\n",
       " 'slice_plane',\n",
       " 'smoothed',\n",
       " 'split',\n",
       " 'subdivide',\n",
       " 'submesh',\n",
       " 'symmetry',\n",
       " 'symmetry_axis',\n",
       " 'symmetry_section',\n",
       " 'to_dict',\n",
       " 'triangles',\n",
       " 'triangles_center',\n",
       " 'triangles_cross',\n",
       " 'triangles_tree',\n",
       " 'union',\n",
       " 'units',\n",
       " 'unmerge_vertices',\n",
       " 'update_faces',\n",
       " 'update_vertices',\n",
       " 'vertex_adjacency_graph',\n",
       " 'vertex_defects',\n",
       " 'vertex_neighbors',\n",
       " 'vertex_normals',\n",
       " 'vertices',\n",
       " 'visual',\n",
       " 'volume',\n",
       " 'voxelized']"
      ]
     },
     "execution_count": 14,
     "metadata": {},
     "output_type": "execute_result"
    }
   ],
   "source": [
    "dir(stl_data)"
   ]
  },
  {
   "cell_type": "code",
   "execution_count": 19,
   "metadata": {},
   "outputs": [
    {
     "data": {
      "text/plain": [
       "array([[-157.34170532,  -57.24791718, -715.23632812]])"
      ]
     },
     "execution_count": 19,
     "metadata": {},
     "output_type": "execute_result"
    }
   ],
   "source": [
    "stl_data.bounding_box.sample_grid(count=1)"
   ]
  },
  {
   "cell_type": "code",
   "execution_count": 16,
   "metadata": {},
   "outputs": [
    {
     "name": "stdout",
     "output_type": "stream",
     "text": [
      "<trimesh.primitives.Box object at 0x1172534a8>\n"
     ]
    }
   ],
   "source": [
    "print(stl_data.bounding_box)"
   ]
  },
  {
   "cell_type": "code",
   "execution_count": 20,
   "metadata": {},
   "outputs": [
    {
     "data": {
      "text/plain": [
       "array([[-157.34170532,  -57.24791718, -715.23632812],\n",
       "       [ -64.7049408 ,   14.83804321, -513.230896  ]])"
      ]
     },
     "execution_count": 20,
     "metadata": {},
     "output_type": "execute_result"
    }
   ],
   "source": [
    "stl_data.bounds"
   ]
  },
  {
   "cell_type": "code",
   "execution_count": 21,
   "metadata": {},
   "outputs": [
    {
     "data": {
      "text/plain": [
       "1"
      ]
     },
     "execution_count": 21,
     "metadata": {},
     "output_type": "execute_result"
    }
   ],
   "source": [
    "stl_data.body_count"
   ]
  },
  {
   "cell_type": "code",
   "execution_count": 22,
   "metadata": {},
   "outputs": [
    {
     "data": {
      "text/plain": [
       "array([[-0.12038153, -0.18346259, -0.97562784],\n",
       "       [-0.0447051 , -0.1846218 , -0.98179233],\n",
       "       [-0.04446837, -0.18692701, -0.98136681],\n",
       "       ...,\n",
       "       [-0.        ,  0.        ,  1.        ],\n",
       "       [ 0.        ,  0.        ,  1.        ],\n",
       "       [ 0.        ,  0.        ,  1.        ]])"
      ]
     },
     "execution_count": 22,
     "metadata": {},
     "output_type": "execute_result"
    }
   ],
   "source": [
    "stl_data.face_normals"
   ]
  },
  {
   "cell_type": "code",
   "execution_count": 23,
   "metadata": {},
   "outputs": [
    {
     "data": {
      "text/plain": [
       "array([[-0.12038153, -0.18346259, -0.97562784],\n",
       "       [-0.0447051 , -0.1846218 , -0.98179233],\n",
       "       [-0.04446837, -0.18692701, -0.98136681]])"
      ]
     },
     "execution_count": 23,
     "metadata": {},
     "output_type": "execute_result"
    }
   ],
   "source": [
    "stl_data.face_normals[0:3]"
   ]
  },
  {
   "cell_type": "code",
   "execution_count": 24,
   "metadata": {},
   "outputs": [
    {
     "data": {
      "text/plain": [
       "False"
      ]
     },
     "execution_count": 24,
     "metadata": {},
     "output_type": "execute_result"
    }
   ],
   "source": [
    "stl_data.is_watertight"
   ]
  },
  {
   "cell_type": "code",
   "execution_count": 25,
   "metadata": {},
   "outputs": [
    {
     "data": {
      "text/plain": [
       "<scipy.spatial.ckdtree.cKDTree at 0x102bdb208>"
      ]
     },
     "execution_count": 25,
     "metadata": {},
     "output_type": "execute_result"
    }
   ],
   "source": [
    "stl_data.kdtree"
   ]
  },
  {
   "cell_type": "code",
   "execution_count": 26,
   "metadata": {},
   "outputs": [],
   "source": [
    "import scipy"
   ]
  },
  {
   "cell_type": "code",
   "execution_count": 27,
   "metadata": {},
   "outputs": [
    {
     "data": {
      "text/plain": [
       "<scipy.spatial.kdtree.KDTree at 0x11a56db38>"
      ]
     },
     "execution_count": 27,
     "metadata": {},
     "output_type": "execute_result"
    }
   ],
   "source": [
    "scipy.spatial.KDTree(vertices)"
   ]
  },
  {
   "cell_type": "code",
   "execution_count": 28,
   "metadata": {},
   "outputs": [
    {
     "data": {
      "text/plain": [
       "<trimesh.visual.ColorVisuals at 0x117238f60>"
      ]
     },
     "execution_count": 28,
     "metadata": {},
     "output_type": "execute_result"
    }
   ],
   "source": [
    "stl_data.visual"
   ]
  },
  {
   "cell_type": "code",
   "execution_count": 29,
   "metadata": {},
   "outputs": [
    {
     "data": {
      "text/plain": [
       "<trimesh.voxel.VoxelMesh at 0x11843b3c8>"
      ]
     },
     "execution_count": 29,
     "metadata": {},
     "output_type": "execute_result"
    }
   ],
   "source": [
    "stl_data.voxelized(0.5)"
   ]
  },
  {
   "cell_type": "code",
   "execution_count": 30,
   "metadata": {},
   "outputs": [
    {
     "data": {
      "text/plain": [
       "<trimesh.base.Trimesh at 0x11843bb00>"
      ]
     },
     "execution_count": 30,
     "metadata": {},
     "output_type": "execute_result"
    }
   ],
   "source": [
    "stl_data.voxelized(0.5).as_boxes()"
   ]
  },
  {
   "cell_type": "code",
   "execution_count": 31,
   "metadata": {},
   "outputs": [
    {
     "data": {
      "text/plain": [
       "211408"
      ]
     },
     "execution_count": 31,
     "metadata": {},
     "output_type": "execute_result"
    }
   ],
   "source": [
    "stl_data.voxelized(0.5).filled_count"
   ]
  },
  {
   "cell_type": "code",
   "execution_count": 32,
   "metadata": {},
   "outputs": [
    {
     "data": {
      "text/plain": [
       "TrackedArray([[-157.75,  -13.75, -691.25],\n",
       "              [-157.75,  -13.75, -690.75],\n",
       "              [-157.75,  -13.75, -690.25],\n",
       "              ...,\n",
       "              [ -64.75,  -27.25, -684.25],\n",
       "              [ -64.75,  -27.25, -680.75],\n",
       "              [ -64.75,  -26.75, -680.75]])"
      ]
     },
     "execution_count": 32,
     "metadata": {},
     "output_type": "execute_result"
    }
   ],
   "source": [
    "stl_data.voxelized(0.5).points"
   ]
  },
  {
   "cell_type": "code",
   "execution_count": 34,
   "metadata": {},
   "outputs": [
    {
     "data": {
      "text/plain": [
       "(187, 145, 405)"
      ]
     },
     "execution_count": 34,
     "metadata": {},
     "output_type": "execute_result"
    }
   ],
   "source": [
    "stl_data.voxelized(0.5).shape"
   ]
  },
  {
   "cell_type": "code",
   "execution_count": 35,
   "metadata": {},
   "outputs": [],
   "source": [
    "stl_data_voxel = stl_data.voxelized(0.5)"
   ]
  },
  {
   "cell_type": "code",
   "execution_count": 36,
   "metadata": {},
   "outputs": [
    {
     "name": "stderr",
     "output_type": "stream",
     "text": [
      "/Users/johndrago/fluoro/fenv/lib/python3.6/site-packages/IPython/core/display.py:694: UserWarning: Consider using IPython.display.IFrame instead\n",
      "  warnings.warn(\"Consider using IPython.display.IFrame instead\")\n"
     ]
    }
   ],
   "source": [
    "stl_data_voxel.show()"
   ]
  },
  {
   "cell_type": "code",
   "execution_count": 39,
   "metadata": {},
   "outputs": [
    {
     "data": {
      "text/plain": [
       "TrackedArray([[-157.75,  -13.75, -691.25],\n",
       "              [-157.75,  -13.75, -690.75],\n",
       "              [-157.75,  -13.75, -690.25],\n",
       "              ...,\n",
       "              [ -64.75,  -27.25, -684.25],\n",
       "              [ -64.75,  -27.25, -680.75],\n",
       "              [ -64.75,  -26.75, -680.75]])"
      ]
     },
     "execution_count": 39,
     "metadata": {},
     "output_type": "execute_result"
    }
   ],
   "source": [
    "stl_data_voxel.points"
   ]
  },
  {
   "cell_type": "code",
   "execution_count": 40,
   "metadata": {},
   "outputs": [
    {
     "data": {
      "text/plain": [
       "(211408, 3)"
      ]
     },
     "execution_count": 40,
     "metadata": {},
     "output_type": "execute_result"
    }
   ],
   "source": [
    "stl_data_voxel.points.shape"
   ]
  },
  {
   "cell_type": "code",
   "execution_count": 41,
   "metadata": {},
   "outputs": [
    {
     "data": {
      "text/plain": [
       "211408"
      ]
     },
     "execution_count": 41,
     "metadata": {},
     "output_type": "execute_result"
    }
   ],
   "source": [
    "stl_data_voxel.filled_count"
   ]
  },
  {
   "cell_type": "code",
   "execution_count": 42,
   "metadata": {},
   "outputs": [
    {
     "ename": "AttributeError",
     "evalue": "'VoxelMesh' object has no attribute 'hollow'",
     "output_type": "error",
     "traceback": [
      "\u001b[0;31m---------------------------------------------------------------------------\u001b[0m",
      "\u001b[0;31mAttributeError\u001b[0m                            Traceback (most recent call last)",
      "\u001b[0;32m<ipython-input-42-bea4c69247fb>\u001b[0m in \u001b[0;36m<module>\u001b[0;34m\u001b[0m\n\u001b[0;32m----> 1\u001b[0;31m \u001b[0mstl_data_voxel\u001b[0m\u001b[0;34m.\u001b[0m\u001b[0mhollow\u001b[0m\u001b[0;34m(\u001b[0m\u001b[0;34m)\u001b[0m\u001b[0;34m\u001b[0m\u001b[0;34m\u001b[0m\u001b[0m\n\u001b[0m",
      "\u001b[0;31mAttributeError\u001b[0m: 'VoxelMesh' object has no attribute 'hollow'"
     ]
    }
   ],
   "source": [
    "stl_data_voxel.hollow()"
   ]
  },
  {
   "cell_type": "code",
   "execution_count": 43,
   "metadata": {},
   "outputs": [
    {
     "data": {
      "text/plain": [
       "TrackedArray([[-157.75,  -13.75, -691.25],\n",
       "              [-157.75,  -13.75, -690.75],\n",
       "              [-157.75,  -13.75, -690.25],\n",
       "              ...,\n",
       "              [ -64.75,  -27.25, -684.25],\n",
       "              [ -64.75,  -27.25, -680.75],\n",
       "              [ -64.75,  -26.75, -680.75]])"
      ]
     },
     "execution_count": 43,
     "metadata": {},
     "output_type": "execute_result"
    }
   ],
   "source": [
    "stl_data_voxel.points"
   ]
  },
  {
   "cell_type": "code",
   "execution_count": 44,
   "metadata": {},
   "outputs": [
    {
     "ename": "AttributeError",
     "evalue": "'VoxelMesh' object has no attribute 'bounds'",
     "output_type": "error",
     "traceback": [
      "\u001b[0;31m---------------------------------------------------------------------------\u001b[0m",
      "\u001b[0;31mAttributeError\u001b[0m                            Traceback (most recent call last)",
      "\u001b[0;32m<ipython-input-44-c6616864bf1b>\u001b[0m in \u001b[0;36m<module>\u001b[0;34m\u001b[0m\n\u001b[0;32m----> 1\u001b[0;31m \u001b[0mstl_data_voxel\u001b[0m\u001b[0;34m.\u001b[0m\u001b[0mbounds\u001b[0m\u001b[0;34m\u001b[0m\u001b[0;34m\u001b[0m\u001b[0m\n\u001b[0m",
      "\u001b[0;31mAttributeError\u001b[0m: 'VoxelMesh' object has no attribute 'bounds'"
     ]
    }
   ],
   "source": [
    "stl_data_voxel.bounds"
   ]
  },
  {
   "cell_type": "code",
   "execution_count": 45,
   "metadata": {},
   "outputs": [
    {
     "data": {
      "text/plain": [
       "trimesh.voxel.VoxelMesh"
      ]
     },
     "execution_count": 45,
     "metadata": {},
     "output_type": "execute_result"
    }
   ],
   "source": [
    "type(stl_data_voxel)"
   ]
  },
  {
   "cell_type": "code",
   "execution_count": 46,
   "metadata": {},
   "outputs": [
    {
     "name": "stdout",
     "output_type": "stream",
     "text": [
      "Help on class VoxelMesh in module trimesh.voxel:\n",
      "\n",
      "class VoxelMesh(VoxelBase)\n",
      " |  Method resolution order:\n",
      " |      VoxelMesh\n",
      " |      VoxelBase\n",
      " |      builtins.object\n",
      " |  \n",
      " |  Methods defined here:\n",
      " |  \n",
      " |  __init__(self, mesh, pitch, max_iter=10, size_max=None, method='subdivide')\n",
      " |      A voxel representation of a mesh that will track changes to\n",
      " |      the mesh.\n",
      " |      \n",
      " |      At the moment the voxels are not filled in and only represent\n",
      " |      the surface.\n",
      " |      \n",
      " |      Parameters\n",
      " |      ----------\n",
      " |      mesh:      Trimesh object\n",
      " |      pitch:     float, how long should each edge of the voxel be\n",
      " |      size_max:  float, maximum size (in mb) of a data structure that\n",
      " |                        may be created before raising an exception\n",
      " |  \n",
      " |  as_boxes(self, solid=False)\n",
      " |      A rough Trimesh representation of the voxels with a box\n",
      " |      for each filled voxel.\n",
      " |      \n",
      " |      Parameters\n",
      " |      -----------\n",
      " |      solid: bool, if True return boxes for sparse_solid\n",
      " |      \n",
      " |      Returns\n",
      " |      ---------\n",
      " |      mesh: Trimesh object made up of one box per filled cell.\n",
      " |  \n",
      " |  show(self, solid=False)\n",
      " |      Convert the current set of voxels into a trimesh for visualization\n",
      " |      and show that via its built- in preview method.\n",
      " |  \n",
      " |  ----------------------------------------------------------------------\n",
      " |  Data descriptors defined here:\n",
      " |  \n",
      " |  matrix\n",
      " |      A matrix representation of the surface voxels.\n",
      " |      \n",
      " |      In the future this is planned to return a filled voxel matrix\n",
      " |      if the source mesh is watertight, and a surface voxelization\n",
      " |      otherwise.\n",
      " |      \n",
      " |      Returns\n",
      " |      ---------\n",
      " |      matrix: self.shape np.bool, cell occupancy\n",
      " |  \n",
      " |  matrix_solid\n",
      " |      The voxels in a mesh as a 3D matrix.\n",
      " |      \n",
      " |      Returns\n",
      " |      ---------\n",
      " |      matrix: self.shape np.bool, if a cell is True it is occupied\n",
      " |  \n",
      " |  matrix_surface\n",
      " |      The voxels on the surface of the mesh as a 3D matrix.\n",
      " |      \n",
      " |      Returns\n",
      " |      ---------\n",
      " |      matrix: self.shape np.bool, if a cell is True it is occupied\n",
      " |  \n",
      " |  origin\n",
      " |      The origin of the voxel array.\n",
      " |      \n",
      " |      Returns\n",
      " |      ------------\n",
      " |      origin: (3,) float, point in space\n",
      " |  \n",
      " |  sparse_solid\n",
      " |      Filled cells inside and on the surface of mesh\n",
      " |      \n",
      " |      Returns\n",
      " |      ----------------\n",
      " |      filled: (n, 3) int, filled cells in or on mesh.\n",
      " |  \n",
      " |  sparse_surface\n",
      " |      Filled cells on the surface of the mesh.\n",
      " |      \n",
      " |      Returns\n",
      " |      ----------------\n",
      " |      voxels: (n, 3) int, filled cells on mesh surface\n",
      " |  \n",
      " |  ----------------------------------------------------------------------\n",
      " |  Methods inherited from VoxelBase:\n",
      " |  \n",
      " |  is_filled(self, point)\n",
      " |      Query a point to see if the voxel cell it lies in is filled or not.\n",
      " |      \n",
      " |      Parameters\n",
      " |      ----------\n",
      " |      point: (3,) float, point in space\n",
      " |      \n",
      " |      Returns\n",
      " |      ---------\n",
      " |      is_filled: bool, is cell occupied or not\n",
      " |  \n",
      " |  point_to_index(self, point)\n",
      " |      Convert a point to an index in the matrix array.\n",
      " |      \n",
      " |      Parameters\n",
      " |      ----------\n",
      " |      point: (3,) float, point in space\n",
      " |      \n",
      " |      Returns\n",
      " |      ---------\n",
      " |      index: (3,) int tuple, index in self.matrix\n",
      " |  \n",
      " |  ----------------------------------------------------------------------\n",
      " |  Data descriptors inherited from VoxelBase:\n",
      " |  \n",
      " |  __dict__\n",
      " |      dictionary for instance variables (if defined)\n",
      " |  \n",
      " |  __weakref__\n",
      " |      list of weak references to the object (if defined)\n",
      " |  \n",
      " |  filled_count\n",
      " |      Return the number of voxels that are occupied.\n",
      " |      \n",
      " |      Returns\n",
      " |      --------\n",
      " |      filled: int, number of voxels that are occupied\n",
      " |  \n",
      " |  marching_cubes\n",
      " |      A marching cubes Trimesh representation of the voxels.\n",
      " |      \n",
      " |      No effort was made to clean or smooth the result in any way;\n",
      " |      it is merely the result of applying the scikit-image\n",
      " |      measure.marching_cubes function to self.matrix.\n",
      " |      \n",
      " |      Returns\n",
      " |      ---------\n",
      " |      meshed: Trimesh object representing the current voxel\n",
      " |                      object, as returned by marching cubes algorithm.\n",
      " |  \n",
      " |  pitch\n",
      " |  \n",
      " |  points\n",
      " |      The center of each filled cell as a list of points.\n",
      " |      \n",
      " |      Returns\n",
      " |      ----------\n",
      " |      points: (self.filled, 3) float, list of points\n",
      " |  \n",
      " |  shape\n",
      " |      The shape of the matrix for the current voxel object.\n",
      " |      \n",
      " |      Returns\n",
      " |      ---------\n",
      " |      shape: (3,) int, what is the shape of the 3D matrix\n",
      " |                       for these voxels\n",
      " |  \n",
      " |  volume\n",
      " |      What is the volume of the filled cells in the current voxel object.\n",
      " |      \n",
      " |      Returns\n",
      " |      ---------\n",
      " |      volume: float, volume of filled cells\n",
      "\n"
     ]
    }
   ],
   "source": [
    "help(trimesh.voxel.VoxelMesh)"
   ]
  },
  {
   "cell_type": "code",
   "execution_count": null,
   "metadata": {},
   "outputs": [],
   "source": []
  }
 ],
 "metadata": {
  "kernelspec": {
   "display_name": "Python 3",
   "language": "python",
   "name": "python3"
  },
  "language_info": {
   "codemirror_mode": {
    "name": "ipython",
    "version": 3
   },
   "file_extension": ".py",
   "mimetype": "text/x-python",
   "name": "python",
   "nbconvert_exporter": "python",
   "pygments_lexer": "ipython3",
   "version": "3.8.3"
  },
  "toc": {
   "base_numbering": 1,
   "nav_menu": {},
   "number_sections": true,
   "sideBar": true,
   "skip_h1_title": false,
   "title_cell": "Table of Contents",
   "title_sidebar": "Contents",
   "toc_cell": false,
   "toc_position": {},
   "toc_section_display": true,
   "toc_window_display": false
  }
 },
 "nbformat": 4,
 "nbformat_minor": 2
}
